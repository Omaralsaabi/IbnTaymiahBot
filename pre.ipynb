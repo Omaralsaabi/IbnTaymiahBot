{
 "cells": [
  {
   "cell_type": "code",
   "execution_count": 1,
   "metadata": {},
   "outputs": [],
   "source": [
    "import pandas as pd"
   ]
  },
  {
   "cell_type": "code",
   "execution_count": 3,
   "metadata": {},
   "outputs": [
    {
     "data": {
      "text/html": [
       "<div>\n",
       "<style scoped>\n",
       "    .dataframe tbody tr th:only-of-type {\n",
       "        vertical-align: middle;\n",
       "    }\n",
       "\n",
       "    .dataframe tbody tr th {\n",
       "        vertical-align: top;\n",
       "    }\n",
       "\n",
       "    .dataframe thead th {\n",
       "        text-align: right;\n",
       "    }\n",
       "</style>\n",
       "<table border=\"1\" class=\"dataframe\">\n",
       "  <thead>\n",
       "    <tr style=\"text-align: right;\">\n",
       "      <th></th>\n",
       "      <th>ID</th>\n",
       "      <th>Paragraph</th>\n",
       "      <th>cleaned</th>\n",
       "    </tr>\n",
       "  </thead>\n",
       "  <tbody>\n",
       "    <tr>\n",
       "      <th>0</th>\n",
       "      <td>1</td>\n",
       "      <td>الْجُزْءُ الْأَوَّلُ\\nكِتَابُ تَوْحِيدِ الْأُل...</td>\n",
       "      <td>الجزء الاول\\nكتاب توحيد الالوهيه\\nقال شيخ الاس...</td>\n",
       "    </tr>\n",
       "    <tr>\n",
       "      <th>1</th>\n",
       "      <td>2</td>\n",
       "      <td>\\n&lt;s0&gt;\\nبياض بالأصل، والزيادة من الحاكم في الت...</td>\n",
       "      <td>بياض بالاصل والزياده من الحاكم في التفسير وقال...</td>\n",
       "    </tr>\n",
       "    <tr>\n",
       "      <th>2</th>\n",
       "      <td>3</td>\n",
       "      <td>\\n&lt;s0&gt;\\n(١)  بياض بالأصل\\nقال الشيخ ناصر بن حم...</td>\n",
       "      <td>بياض بالاصل\\nقال الشيخ ناصر بن حمد الفهد ص وال...</td>\n",
       "    </tr>\n",
       "    <tr>\n",
       "      <th>3</th>\n",
       "      <td>4</td>\n",
       "      <td>\\n&lt;s0&gt;\\n(*)  قال الشيخ ناصر بن حمد الفهد (ص ١٤...</td>\n",
       "      <td>قال الشيخ ناصر بن حمد الفهد ص قلت وهنا امران\\n...</td>\n",
       "    </tr>\n",
       "    <tr>\n",
       "      <th>4</th>\n",
       "      <td>5</td>\n",
       "      <td>\\n&lt;s0&gt;\\n(١)  هكذا بالأصلإلَيْهِ. وَالْخَلْقُ: ...</td>\n",
       "      <td>هكذا بالاصلاليه والخلق اهون ما يكون عليهم احوج...</td>\n",
       "    </tr>\n",
       "  </tbody>\n",
       "</table>\n",
       "</div>"
      ],
      "text/plain": [
       "   ID                                          Paragraph  \\\n",
       "0   1  الْجُزْءُ الْأَوَّلُ\\nكِتَابُ تَوْحِيدِ الْأُل...   \n",
       "1   2  \\n<s0>\\nبياض بالأصل، والزيادة من الحاكم في الت...   \n",
       "2   3  \\n<s0>\\n(١)  بياض بالأصل\\nقال الشيخ ناصر بن حم...   \n",
       "3   4  \\n<s0>\\n(*)  قال الشيخ ناصر بن حمد الفهد (ص ١٤...   \n",
       "4   5  \\n<s0>\\n(١)  هكذا بالأصلإلَيْهِ. وَالْخَلْقُ: ...   \n",
       "\n",
       "                                             cleaned  \n",
       "0  الجزء الاول\\nكتاب توحيد الالوهيه\\nقال شيخ الاس...  \n",
       "1  بياض بالاصل والزياده من الحاكم في التفسير وقال...  \n",
       "2  بياض بالاصل\\nقال الشيخ ناصر بن حمد الفهد ص وال...  \n",
       "3  قال الشيخ ناصر بن حمد الفهد ص قلت وهنا امران\\n...  \n",
       "4  هكذا بالاصلاليه والخلق اهون ما يكون عليهم احوج...  "
      ]
     },
     "execution_count": 3,
     "metadata": {},
     "output_type": "execute_result"
    }
   ],
   "source": [
    "df = pd.read_csv('data/مجموع الفتاوى_cleaned.csv', encoding='utf-8')\n",
    "\n",
    "df.head()"
   ]
  },
  {
   "cell_type": "code",
   "execution_count": 4,
   "metadata": {},
   "outputs": [
    {
     "data": {
      "text/plain": [
       "0    الجزء الاول\\nكتاب توحيد الالوهيه\\nقال شيخ الاس...\n",
       "1    بياض بالاصل والزياده من الحاكم في التفسير وقال...\n",
       "2    بياض بالاصل\\nقال الشيخ ناصر بن حمد الفهد ص وال...\n",
       "3    قال الشيخ ناصر بن حمد الفهد ص قلت وهنا امران\\n...\n",
       "4    هكذا بالاصلاليه والخلق اهون ما يكون عليهم احوج...\n",
       "Name: cleaned, dtype: object"
      ]
     },
     "execution_count": 4,
     "metadata": {},
     "output_type": "execute_result"
    }
   ],
   "source": [
    "df = df.head()\n",
    "\n",
    "cleaned = df['cleaned']\n",
    "\n",
    "cleaned"
   ]
  },
  {
   "cell_type": "code",
   "execution_count": 5,
   "metadata": {},
   "outputs": [],
   "source": [
    "df.to_csv('data/مجموع الفتاوى_cleaned_cropped.csv', encoding='utf-8', index=False)"
   ]
  },
  {
   "cell_type": "code",
   "execution_count": null,
   "metadata": {},
   "outputs": [],
   "source": []
  }
 ],
 "metadata": {
  "kernelspec": {
   "display_name": "venv",
   "language": "python",
   "name": "python3"
  },
  "language_info": {
   "codemirror_mode": {
    "name": "ipython",
    "version": 3
   },
   "file_extension": ".py",
   "mimetype": "text/x-python",
   "name": "python",
   "nbconvert_exporter": "python",
   "pygments_lexer": "ipython3",
   "version": "3.11.5"
  }
 },
 "nbformat": 4,
 "nbformat_minor": 2
}
